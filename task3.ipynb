{
 "cells": [
  {
   "cell_type": "code",
   "execution_count": 2,
   "metadata": {
    "collapsed": true
   },
   "outputs": [
    {
     "name": "stdout",
     "output_type": "stream",
     "text": [
      "(150000, 31)\n(50000, 30)\n"
     ]
    }
   ],
   "source": [
    "#首先导入所需的包\n",
    "import pandas as pd\n",
    "import numpy as np\n",
    "import matplotlib\n",
    "import matplotlib.pyplot as plt\n",
    "import seaborn as sns\n",
    "from operator import itemgetter\n",
    "\n",
    "#%matplotlib inline\n",
    "\n",
    "#导入训练集和测试集\n",
    "train = pd.read_csv('E:\\\\data\\\\二手车\\\\used_car_train_20200313.csv',sep=' ',engine='python')\n",
    "test = pd.read_csv('E:\\\\data\\\\二手车\\\\used_car_testA_20200313.csv',sep=' ',engine='python')\n",
    "print(train.shape)\n",
    "print(test.shape)"
   ]
  },
  {
   "cell_type": "code",
   "execution_count": 3,
   "metadata": {},
   "outputs": [
    {
     "name": "stdout",
     "output_type": "stream",
     "text": [
      "   SaleID    name   regDate  model  brand  bodyType  fuelType  gearbox  power  \\\n0       0     736  20040402   30.0      6       1.0       0.0      0.0     60   \n1       1    2262  20030301   40.0      1       2.0       0.0      0.0      0   \n2       2   14874  20040403  115.0     15       1.0       0.0      0.0    163   \n3       3   71865  19960908  109.0     10       0.0       0.0      1.0    193   \n4       4  111080  20120103  110.0      5       1.0       0.0      0.0     68   \n\n   kilometer    ...          v_5       v_6       v_7       v_8       v_9  \\\n0       12.5    ...     0.235676  0.101988  0.129549  0.022816  0.097462   \n1       15.0    ...     0.264777  0.121004  0.135731  0.026597  0.020582   \n2       12.5    ...     0.251410  0.114912  0.165147  0.062173  0.027075   \n3       15.0    ...     0.274293  0.110300  0.121964  0.033395  0.000000   \n4        5.0    ...     0.228036  0.073205  0.091880  0.078819  0.121534   \n\n       v_10      v_11      v_12      v_13      v_14  \n0 -2.881803  2.804097 -2.420821  0.795292  0.914762  \n1 -4.900482  2.096338 -1.030483 -1.722674  0.245522  \n2 -4.846749  1.803559  1.565330 -0.832687 -0.229963  \n3 -4.509599  1.285940 -0.501868 -2.438353 -0.478699  \n4 -1.896240  0.910783  0.931110  2.834518  1.923482  \n\n[5 rows x 31 columns]\n"
     ]
    }
   ],
   "source": [
    "#展示测试集的前几行\n",
    "print(train.head())"
   ]
  },
  {
   "cell_type": "code",
   "execution_count": 4,
   "metadata": {},
   "outputs": [
    {
     "data": {
      "text/plain": [
       "Index(['SaleID', 'name', 'regDate', 'model', 'brand', 'bodyType', 'fuelType',\n       'gearbox', 'power', 'kilometer', 'notRepairedDamage', 'regionCode',\n       'seller', 'offerType', 'creatDate', 'price', 'v_0', 'v_1', 'v_2', 'v_3',\n       'v_4', 'v_5', 'v_6', 'v_7', 'v_8', 'v_9', 'v_10', 'v_11', 'v_12',\n       'v_13', 'v_14'],\n      dtype='object')"
      ]
     },
     "execution_count": 4,
     "metadata": {},
     "output_type": "execute_result"
    }
   ],
   "source": [
    "#列出测试集的列别\n",
    "train.columns"
   ]
  },
  {
   "cell_type": "code",
   "execution_count": 5,
   "metadata": {},
   "outputs": [
    {
     "name": "stdout",
     "output_type": "stream",
     "text": [
      "   SaleID    name   regDate  model  brand  bodyType  fuelType  gearbox  power  \\\n0  150000   66932  20111212  222.0      4       5.0       1.0      1.0    313   \n1  150001  174960  19990211   19.0     21       0.0       0.0      0.0     75   \n2  150002    5356  20090304   82.0     21       0.0       0.0      0.0    109   \n3  150003   50688  20100405    0.0      0       0.0       0.0      1.0    160   \n4  150004  161428  19970703   26.0     14       2.0       0.0      0.0     75   \n\n   kilometer    ...          v_5       v_6       v_7       v_8       v_9  \\\n0       15.0    ...     0.264405  0.121800  0.070899  0.106558  0.078867   \n1       12.5    ...     0.261745  0.000000  0.096733  0.013705  0.052383   \n2        7.0    ...     0.260216  0.112081  0.078082  0.062078  0.050540   \n3        7.0    ...     0.260466  0.106727  0.081146  0.075971  0.048268   \n4       15.0    ...     0.250999  0.000000  0.077806  0.028600  0.081709   \n\n       v_10      v_11      v_12      v_13      v_14  \n0 -7.050969 -0.854626  4.800151  0.620011 -3.664654  \n1  3.679418 -0.729039 -3.796107 -1.541230 -0.757055  \n2 -4.926690  1.001106  0.826562  0.138226  0.754033  \n3 -4.864637  0.505493  1.870379  0.366038  1.312775  \n4  3.616475 -0.673236 -3.197685 -0.025678 -0.101290  \n\n[5 rows x 30 columns]\n"
     ]
    }
   ],
   "source": [
    "print(test.head())"
   ]
  },
  {
   "cell_type": "code",
   "execution_count": 5,
   "metadata": {},
   "outputs": [
    {
     "data": {
      "text/plain": [
       "Index(['SaleID', 'name', 'regDate', 'model', 'brand', 'bodyType', 'fuelType',\n       'gearbox', 'power', 'kilometer', 'notRepairedDamage', 'regionCode',\n       'seller', 'offerType', 'creatDate', 'v_0', 'v_1', 'v_2', 'v_3', 'v_4',\n       'v_5', 'v_6', 'v_7', 'v_8', 'v_9', 'v_10', 'v_11', 'v_12', 'v_13',\n       'v_14'],\n      dtype='object')"
      ]
     },
     "execution_count": 5,
     "metadata": {},
     "output_type": "execute_result"
    }
   ],
   "source": [
    "test.columns"
   ]
  },
  {
   "cell_type": "code",
   "execution_count": 6,
   "metadata": {},
   "outputs": [],
   "source": [
    "##删除异常值\n",
    "#包装了一个异常值处理的代码，可以随时调用\n",
    "def outliers_proc(data,col_name,scale=3):\n",
    "    '''\n",
    "    用于清洗异常值，默认用box_plot（scale=3）进行清洗\n",
    "    :param data: 接收pandas数据格式\n",
    "    :param col_name: pandas列名\n",
    "    :param scale: 尺度\n",
    "    :return:\n",
    "    '''\n",
    "    def box_plot_outliers(data_ser,box_scale):\n",
    "        '''\n",
    "        利用箱线图去除异常值\n",
    "        :param data_ser: 接收pandas.Series数据格式\n",
    "        :param box_scale: 箱线图尺度\n",
    "        :return:\n",
    "        '''\n",
    "        iqr=box_scale * (data_ser.quantile(0.75)-data_ser.quantile(0.25))\n",
    "        val_low=data_ser.quantile(0.25)-iqr\n",
    "        val_up=data_ser.quantile(0.75)+iqr\n",
    "        rule_low=(data_ser<val_low)\n",
    "        rule_up=(data_ser>val_up)\n",
    "        return (rule_low,rule_up),(val_low,val_up)\n",
    "    data_n=data.copy()\n",
    "    data_series=data_n[col_name]\n",
    "    rule,value=box_plot_outliers(data_series,box_scale=scale)\n",
    "    index=np.arange(data_series.shape[0])[rule[0] | rule[1]]\n",
    "    print('delete number is :{}'.format(len(index)))\n",
    "    data_n=data_n.drop(index)\n",
    "    data_n.reset_index(drop=True,inplace=True)\n",
    "    print('now colunmn number is:{}'.format(data_n.shape[0]))\n",
    "    index_low=np.arange(data_series.shape[0])[rule[0]]\n",
    "    outliers=data_series.iloc[index_low]\n",
    "    print('description of data less than the lower bound is:')\n",
    "    print(pd.Series(outliers).describe())\n",
    "    index_up=np.arange(data_series.shape[0])[rule[1]]\n",
    "    outliers=data_series.iloc[index_up]\n",
    "    print('description of data larger than the upper bound is:')\n",
    "    print(pd.Series(outliers).describe())\n",
    "\n",
    "    fig,ax=plt.subplots(1,2,figsize=(10,7))\n",
    "    sns.boxplot(y=data[col_name],data=data,palette='Set1',ax=ax[0])\n",
    "    sns.boxplot(y=data_n[col_name],data=data_n,palette='Set1',ax=ax[1])\n",
    "    return data_n"
   ]
  },
  {
   "cell_type": "code",
   "execution_count": 7,
   "metadata": {},
   "outputs": [],
   "source": [
    "#我们可以删掉一些异常数据，以power为例\n",
    "#这里删不删可以自己判断\n",
    "#注意：test数据不能删\n",
    "\n",
    "#train=outliners_proc(train,'power',scale=3)"
   ]
  },
  {
   "cell_type": "code",
   "execution_count": 8,
   "metadata": {},
   "outputs": [],
   "source": [
    "##特征构造\n",
    "#训练集和测试集放在一起，方便构造特征\n",
    "train['train']=1\n",
    "test['train']=0\n",
    "data=pd.concat([train,test],ignore_index=True,sort=False)"
   ]
  },
  {
   "cell_type": "code",
   "execution_count": 9,
   "metadata": {},
   "outputs": [],
   "source": [
    "#使用时间：data['creatDate']-data['regData'],反应汽车使用时间，一般来说价格与使用时间呈反比\n",
    "#不过要注意，数据里有时间出错的格式，所以需要error=‘coerce’\n",
    "data['used_time']=(pd.to_datetime(data['creatDate'],format='%Y%M%d',errors='coerce')-\n",
    "                            pd.to_datetime(data['regDate'],format='%Y%M%d',errors='coerce')).dt.days"
   ]
  },
  {
   "cell_type": "code",
   "execution_count": 10,
   "metadata": {},
   "outputs": [
    {
     "data": {
      "text/plain": [
       "0"
      ]
     },
     "execution_count": 10,
     "metadata": {},
     "output_type": "execute_result"
    }
   ],
   "source": [
    "#看一下空数据，有15K个样本的时间是有问题的，我们可以选择删除也可以选择不删除\n",
    "#但是这里不建议删除，因为删除确实数据占总样本量过大，7.5%\n",
    "#我们可以先放着，因为如果我们采用XGBoost之类的决策树，其本身就能处理缺失值，所以可以先不用管\n",
    "data['used_time'].isnull().sum()"
   ]
  },
  {
   "cell_type": "code",
   "execution_count": 11,
   "metadata": {},
   "outputs": [],
   "source": [
    "#从邮编中提取城市信息，因为是德国的数据，所以参考德国的邮编，相当于加入了先验知识\n",
    "data['city']=data['regionCode'].apply(lambda x:str(x)[:-3])"
   ]
  },
  {
   "cell_type": "code",
   "execution_count": 12,
   "metadata": {},
   "outputs": [],
   "source": [
    "#计算某品牌的销售统计量，同学们还可以计算其他特征的统计量\n",
    "#这里离要以train的数据计算统计量\n",
    "train_gb = train.groupby('brand')\n",
    "all_info={}\n",
    "for kind,kind_data in train_gb:\n",
    "    info={}\n",
    "    kind_data=kind_data[kind_data['price']>0]\n",
    "    info['brand_amount']=len(kind_data)\n",
    "    info['brand_price_max']=kind_data.price.max()\n",
    "    info['brand_price_median']=kind_data.price.median()\n",
    "    info['brand_price_min']=kind_data.price.min()\n",
    "    info['brand_price_sum']=kind_data.price.sum()\n",
    "    info['brand_price_std']=kind_data.price.std()\n",
    "    info['brand_price_average']=round(kind_data.price.sum()/(len(kind_data)+1),2)\n",
    "    all_info[kind]=info\n",
    "\n",
    "brand_fe=pd.DataFrame(all_info).T.reset_index().rename(columns={\"index\":\"brand\"})\n",
    "data=data.merge(brand_fe,how='left',on='brand')"
   ]
  },
  {
   "cell_type": "code",
   "execution_count": 13,
   "metadata": {},
   "outputs": [
    {
     "name": "stdout",
     "output_type": "stream",
     "text": [
      "   power_bin  power\n0        5.0     60\n1        NaN      0\n2       16.0    163\n3       19.0    193\n4        6.0     68\n"
     ]
    }
   ],
   "source": [
    "#数据分桶 以power为例\n",
    "#这时候我们的缺失值也进桶了\n",
    "#为什么要做数据分桶呢,原因有很多\n",
    "# 1.离散后稀疏向量内积乘法运算速度更快，计算结果也方便存储，容易扩展；\n",
    "# 2.离散后的特征对异常值更具鲁棒性，如age>30为1，否则为0，对于年龄为200的也不会对模型造成很大的干扰；\n",
    "# 3.LR属于广义线性模型，表达能力有限，经过离散化后，每个变量有单独的权重，这相对于引入了非线性，能够提升模型的表达能力，加大拟合；\n",
    "# 4.离散后特征可以进行特征交叉，提升表达能力，由M+N个变量编程M*N个变量，进一步引入了非线性，提升了表达能力；\n",
    "# 5.特征离散后模型更稳定，如用户年龄区间，不会因为用户年龄长了一岁就变化\n",
    "\n",
    "#当然还有很多其他原因，lightGBM在改进XGBoost时就增加了数据分桶，增强了模型的泛化性\n",
    "bin=[i*10 for i in range(31)]\n",
    "data['power_bin'] = pd.cut(data['power'],bin,labels=False)\n",
    "print(data[['power_bin','power']].head())"
   ]
  },
  {
   "cell_type": "code",
   "execution_count": 14,
   "metadata": {},
   "outputs": [],
   "source": [
    "#利用好了，就可以删掉原始数据了\n",
    "data=data.drop(['creatDate','regDate','regionCode'],axis=1)\n"
   ]
  },
  {
   "cell_type": "code",
   "execution_count": 15,
   "metadata": {},
   "outputs": [
    {
     "name": "stdout",
     "output_type": "stream",
     "text": [
      "(200000, 39)\n"
     ]
    },
    {
     "data": {
      "text/plain": [
       "Index(['SaleID', 'name', 'model', 'brand', 'bodyType', 'fuelType', 'gearbox',\n       'power', 'kilometer', 'notRepairedDamage', 'seller', 'offerType',\n       'price', 'v_0', 'v_1', 'v_2', 'v_3', 'v_4', 'v_5', 'v_6', 'v_7', 'v_8',\n       'v_9', 'v_10', 'v_11', 'v_12', 'v_13', 'v_14', 'train', 'used_time',\n       'city', 'brand_amount', 'brand_price_average', 'brand_price_max',\n       'brand_price_median', 'brand_price_min', 'brand_price_std',\n       'brand_price_sum', 'power_bin'],\n      dtype='object')"
      ]
     },
     "execution_count": 15,
     "metadata": {},
     "output_type": "execute_result"
    }
   ],
   "source": [
    "print(data.shape)\n",
    "data.columns"
   ]
  },
  {
   "cell_type": "code",
   "execution_count": 16,
   "metadata": {},
   "outputs": [
    {
     "data": {
      "text/plain": [
       "<matplotlib.axes._subplots.AxesSubplot at 0x23a3fb6af28>"
      ]
     },
     "execution_count": 16,
     "metadata": {},
     "output_type": "execute_result"
    },
    {
     "data": {
      "image/png": "[encoded data removed]",
      "text/plain": [
       "<Figure size 432x288 with 1 Axes>"
      ]
     },
     "metadata": {},
     "output_type": "display_data"
    }
   ],
   "source": [
    "#目前的数据其实已经可以给树模型使用了，所以我们导出一下\n",
    "data.to_csv('data_for_tree.csv',index=0)\n",
    "\n",
    "#我们可以再构造一份特征给LR NN之类的模型用\n",
    "#之所以分开构造是因为，不同模型对数据集的要求不同\n",
    "#首先看下数据的分布\n",
    "data['power'].plot.hist()"
   ]
  },
  {
   "cell_type": "code",
   "execution_count": 17,
   "metadata": {},
   "outputs": [
    {
     "data": {
      "text/plain": [
       "<matplotlib.axes._subplots.AxesSubplot at 0x23a547eeeb8>"
      ]
     },
     "execution_count": 17,
     "metadata": {},
     "output_type": "execute_result"
    },
    {
     "data": {
      "image/png": "[encoded data removed]",
      "text/plain": [
       "<Figure size 432x288 with 1 Axes>"
      ]
     },
     "metadata": {},
     "output_type": "display_data"
    }
   ],
   "source": [
    "#我们刚刚已经对train进行了异常值处理了，但是现在还有这么奇怪的分布是因为test中的power异常值\n",
    "#所以我们其实刚刚train中的power异常值不删为好，可以用长尾分布截断来代替\n",
    "train['power'].plot.hist()"
   ]
  },
  {
   "cell_type": "code",
   "execution_count": 18,
   "metadata": {},
   "outputs": [],
   "source": [
    "# 我们对其取log,再做归一化\n",
    "from sklearn import preprocessing\n",
    "min_max_scaler=preprocessing.MinMaxScaler\n",
    "data ['power']=np.log(data['power']+1)\n",
    "data['power']=((data['power']-np.min(data['power']))/(np.max(data['power'])-np.min(data['power'])))\n"
   ]
  },
  {
   "cell_type": "code",
   "execution_count": 19,
   "metadata": {},
   "outputs": [
    {
     "data": {
      "text/plain": [
       "<matplotlib.axes._subplots.AxesSubplot at 0x23a3fc395c0>"
      ]
     },
     "execution_count": 19,
     "metadata": {},
     "output_type": "execute_result"
    },
    {
     "data": {
      "image/png": "[encoded data removed]",
      "text/plain": [
       "<Figure size 432x288 with 1 Axes>"
      ]
     },
     "metadata": {},
     "output_type": "display_data"
    }
   ],
   "source": [
    "# km的比较正常，应该是已经做出了分桶\n",
    "data['kilometer'].plot.hist()"
   ]
  },
  {
   "cell_type": "code",
   "execution_count": 20,
   "metadata": {},
   "outputs": [
    {
     "data": {
      "text/plain": [
       "<matplotlib.axes._subplots.AxesSubplot at 0x23a4254cb38>"
      ]
     },
     "execution_count": 20,
     "metadata": {},
     "output_type": "execute_result"
    },
    {
     "data": {
      "image/png": "[encoded data removed]",
      "text/plain": [
       "<Figure size 432x288 with 1 Axes>"
      ]
     },
     "metadata": {},
     "output_type": "display_data"
    }
   ],
   "source": [
    "# 所以我们可以直接归一化\n",
    "data['kilometer']=((data['kilometer']-np.min(data['kilometer']))/\n",
    "                   (np.max(data['kilometer'])-np.min(data['kilometer'])))\n",
    "data['kilometer'].plot.hist()"
   ]
  },
  {
   "cell_type": "code",
   "execution_count": 21,
   "metadata": {},
   "outputs": [],
   "source": [
    "# 除此之外，还有我们刚刚构造的统计量特征：\n",
    "# ‘brand_amount’,'brand_price_average','brand_price_max',\n",
    "# 'brand_price_median','brand_price_min','brand_price_std',\n",
    "# ‘brand_price_sum'\n",
    "# 这里不再一一举例分析，直接做变换\n",
    "def max_min(x):\n",
    "    return (x-np.min(x))/(np.max(x)-np.min(x))\n",
    "data['brand_amount'] = ((data['brand_amount'] - np.min(data['brand_amount']))/\n",
    "                        (np.max(data['brand_amount']) - np.min(data['brand_amount'])))\n",
    "data['brand_price_average'] = ((data['brand_price_average'] - np.min(data['brand_price_average'])) /\n",
    "                               (np.max(data['brand_price_average']) - np.min(data['brand_price_average'])))\n",
    "data['brand_price_max'] = ((data['brand_price_max'] - np.min(data['brand_price_max'])) /\n",
    "                           (np.max(data['brand_price_max']) - np.min(data['brand_price_max'])))\n",
    "data['brand_price_median'] = ((data['brand_price_median'] - np.min(data['brand_price_median'])) /\n",
    "                              (np.max(data['brand_price_median']) - np.min(data['brand_price_median'])))\n",
    "data['brand_price_min'] = ((data['brand_price_min'] - np.min(data['brand_price_min'])) /\n",
    "                           (np.max(data['brand_price_min']) - np.min(data['brand_price_min'])))\n",
    "data['brand_price_std'] = ((data['brand_price_std'] - np.min(data['brand_price_std'])) /\n",
    "                           (np.max(data['brand_price_std']) - np.min(data['brand_price_std'])))\n",
    "data['brand_price_sum'] = ((data['brand_price_sum'] - np.min(data['brand_price_sum'])) /\n",
    "                           (np.max(data['brand_price_sum']) - np.min(data['brand_price_sum'])))\n"
   ]
  },
  {
   "cell_type": "code",
   "execution_count": 22,
   "metadata": {},
   "outputs": [],
   "source": [
    "#对类别特征进行oneencoder\n",
    "data=pd.get_dummies(data,columns=['model','brand','bodyType','fuelType',\n",
    "                                  'gearbox','notRepairedDamage','power_bin'])\n"
   ]
  },
  {
   "cell_type": "code",
   "execution_count": 23,
   "metadata": {},
   "outputs": [
    {
     "name": "stdout",
     "output_type": "stream",
     "text": [
      "(200000, 370)\n"
     ]
    },
    {
     "data": {
      "text/plain": [
       "Index(['SaleID', 'name', 'power', 'kilometer', 'seller', 'offerType', 'price',\n       'v_0', 'v_1', 'v_2',\n       ...\n       'power_bin_20.0', 'power_bin_21.0', 'power_bin_22.0', 'power_bin_23.0',\n       'power_bin_24.0', 'power_bin_25.0', 'power_bin_26.0', 'power_bin_27.0',\n       'power_bin_28.0', 'power_bin_29.0'],\n      dtype='object', length=370)"
      ]
     },
     "execution_count": 23,
     "metadata": {},
     "output_type": "execute_result"
    }
   ],
   "source": [
    "print(data.shape)\n",
    "data.columns"
   ]
  },
  {
   "cell_type": "code",
   "execution_count": 30,
   "metadata": {},
   "outputs": [],
   "source": [
    "#这份数据可以给LR用\n",
    "data.to_csv('data_for_lr.csv',index=0)"
   ]
  },
  {
   "cell_type": "code",
   "execution_count": 31,
   "metadata": {},
   "outputs": [
    {
     "data": {
      "text/plain": [
       "<matplotlib.axes._subplots.AxesSubplot at 0x23a3fca21d0>"
      ]
     },
     "execution_count": 31,
     "metadata": {},
     "output_type": "execute_result"
    },
    {
     "data": {
      "image/png": "[encoded data removed]",
      "text/plain": [
       "<Figure size 432x288 with 1 Axes>"
      ]
     },
     "metadata": {},
     "output_type": "display_data"
    }
   ],
   "source": [
    "#我们可以再构造一份特征给LR NN之类的模型用\n",
    "#之所以分开构造是因为，不同模型对数据集的要求不同\n",
    "#首先看下数据的分布\n",
    "data['power'].plot.hist()"
   ]
  },
  {
   "cell_type": "code",
   "execution_count": 33,
   "metadata": {},
   "outputs": [
    {
     "data": {
      "text/plain": [
       "<matplotlib.axes._subplots.AxesSubplot at 0x23a3fc39860>"
      ]
     },
     "execution_count": 33,
     "metadata": {},
     "output_type": "execute_result"
    },
    {
     "data": {
      "image/png": "[encoded data removed]",
      "text/plain": [
       "<Figure size 432x288 with 1 Axes>"
      ]
     },
     "metadata": {},
     "output_type": "display_data"
    }
   ],
   "source": [
    "#我们刚刚已经对train进行了异常值处理了，但是现在还有这么奇怪的分布是因为test中的power异常值\n",
    "#所以我们其实刚刚train中的power异常值不删为好，可以用长尾分布截断来代替\n",
    "train['power'].plot.hist()"
   ]
  },
  {
   "cell_type": "code",
   "execution_count": 34,
   "metadata": {},
   "outputs": [],
   "source": [
    "# 我们对其取log,再做归一化\n",
    "from sklearn import preprocessing\n",
    "min_max_scaler=preprocessing.MinMaxScaler\n",
    "data ['power']=np.log(data['power']+1)\n",
    "data['power']=((data['power']-np.min(data['power']))/(np.max(data['power'])-np.min(data['power'])))\n"
   ]
  },
  {
   "cell_type": "code",
   "execution_count": 35,
   "metadata": {},
   "outputs": [
    {
     "data": {
      "text/plain": [
       "<matplotlib.axes._subplots.AxesSubplot at 0x23a3fcacc50>"
      ]
     },
     "execution_count": 35,
     "metadata": {},
     "output_type": "execute_result"
    },
    {
     "data": {
      "image/png": "[encoded data removed]",
      "text/plain": [
       "<Figure size 432x288 with 1 Axes>"
      ]
     },
     "metadata": {},
     "output_type": "display_data"
    }
   ],
   "source": [
    "# km的比较正常，应该是已经做出了分桶\n",
    "data['kilometer'].plot.hist()"
   ]
  },
  {
   "cell_type": "code",
   "execution_count": 36,
   "metadata": {},
   "outputs": [
    {
     "data": {
      "text/plain": [
       "<matplotlib.axes._subplots.AxesSubplot at 0x23a405aa908>"
      ]
     },
     "execution_count": 36,
     "metadata": {},
     "output_type": "execute_result"
    },
    {
     "data": {
      "image/png": "[encoded data removed]",
      "text/plain": [
       "<Figure size 432x288 with 1 Axes>"
      ]
     },
     "metadata": {},
     "output_type": "display_data"
    }
   ],
   "source": [
    "# 所以我们可以直接归一化\n",
    "data['kilometer']=((data['kilometer']-np.min(data['kilometer']))/\n",
    "                   (np.max(data['kilometer'])-np.min(data['kilometer'])))\n",
    "data['kilometer'].plot.hist()"
   ]
  },
  {
   "cell_type": "code",
   "execution_count": 37,
   "metadata": {},
   "outputs": [],
   "source": [
    "# 除此之外，还有我们刚刚构造的统计量特征：\n",
    "# ‘brand_amount’,'brand_price_average','brand_price_max',\n",
    "# 'brand_price_median','brand_price_min','brand_price_std',\n",
    "# ‘brand_price_sum'\n",
    "# 这里不再一一举例分析，直接做变换\n",
    "def max_min(x):\n",
    "    return (x-np.min(x))/(np.max(x)-np.min(x))\n",
    "data['brand_amount'] = ((data['brand_amount'] - np.min(data['brand_amount']))/\n",
    "                        (np.max(data['brand_amount']) - np.min(data['brand_amount'])))\n",
    "data['brand_price_average'] = ((data['brand_price_average'] - np.min(data['brand_price_average'])) /\n",
    "                               (np.max(data['brand_price_average']) - np.min(data['brand_price_average'])))\n",
    "data['brand_price_max'] = ((data['brand_price_max'] - np.min(data['brand_price_max'])) /\n",
    "                           (np.max(data['brand_price_max']) - np.min(data['brand_price_max'])))\n",
    "data['brand_price_median'] = ((data['brand_price_median'] - np.min(data['brand_price_median'])) /\n",
    "                              (np.max(data['brand_price_median']) - np.min(data['brand_price_median'])))\n",
    "data['brand_price_min'] = ((data['brand_price_min'] - np.min(data['brand_price_min'])) /\n",
    "                           (np.max(data['brand_price_min']) - np.min(data['brand_price_min'])))\n",
    "data['brand_price_std'] = ((data['brand_price_std'] - np.min(data['brand_price_std'])) /\n",
    "                           (np.max(data['brand_price_std']) - np.min(data['brand_price_std'])))\n",
    "data['brand_price_sum'] = ((data['brand_price_sum'] - np.min(data['brand_price_sum'])) /\n",
    "                           (np.max(data['brand_price_sum']) - np.min(data['brand_price_sum'])))\n"
   ]
  },
  {
   "cell_type": "code",
   "execution_count": 3,
   "metadata": {},
   "outputs": [],
   "source": [
    "#对类别特征进行oneencoder\n",
    "#data=pd.get_dummies(data,columns=['model','brand','bodyType','fuelType',\n",
    " #                                 'gearbox','notRepairedDamage','power_bin'])\n"
   ]
  },
  {
   "cell_type": "code",
   "execution_count": 39,
   "metadata": {},
   "outputs": [
    {
     "name": "stdout",
     "output_type": "stream",
     "text": [
      "(200000, 370)\n"
     ]
    },
    {
     "data": {
      "text/plain": [
       "Index(['SaleID', 'name', 'power', 'kilometer', 'seller', 'offerType', 'price',\n       'v_0', 'v_1', 'v_2',\n       ...\n       'power_bin_20.0', 'power_bin_21.0', 'power_bin_22.0', 'power_bin_23.0',\n       'power_bin_24.0', 'power_bin_25.0', 'power_bin_26.0', 'power_bin_27.0',\n       'power_bin_28.0', 'power_bin_29.0'],\n      dtype='object', length=370)"
      ]
     },
     "execution_count": 39,
     "metadata": {},
     "output_type": "execute_result"
    }
   ],
   "source": [
    "print(data.shape)\n",
    "data.columns"
   ]
  },
  {
   "cell_type": "code",
   "execution_count": 40,
   "metadata": {},
   "outputs": [],
   "source": [
    "#这份数据可以给LR用\n",
    "data.to_csv('data_for_lr.csv',index=0)\n"
   ]
  },
  {
   "cell_type": "code",
   "execution_count": 41,
   "metadata": {},
   "outputs": [
    {
     "name": "stdout",
     "output_type": "stream",
     "text": [
      "0.5773425426332196\n-0.4097783640876424\n"
     ]
    },
    {
     "name": "stdout",
     "output_type": "stream",
     "text": [
      "0.05438301230221679\n0.38875954584355615\n"
     ]
    },
    {
     "name": "stdout",
     "output_type": "stream",
     "text": [
      "0.2587402623951201\n0.39159165603497703\n"
     ]
    }
   ],
   "source": [
    "##特征筛选\n",
    "#1.过滤式\n",
    "\n",
    "#相关性分析\n",
    "print(data['power'].corr(data['price'],method='spearman'))\n",
    "print(data['kilometer'].corr(data['price'],method='spearman'))\n",
    "print(data['brand_amount'].corr(data['price'],method='spearman'))\n",
    "print(data['brand_price_average'].corr(data['price'],method='spearman'))\n",
    "print(data['brand_price_max'].corr(data['price'],method='spearman'))\n",
    "print(data['brand_price_median'].corr(data['price'],method='spearman'))\n"
   ]
  },
  {
   "cell_type": "code",
   "execution_count": 2,
   "metadata": {},
   "outputs": [],
   "source": [
    "#也可以直接看图\n",
    "#data_numeric=data[['power','kilometer','brand_amount','brand_price_average',\n",
    " #                  'brand_price_max','brand_price_median']]\n",
    "#correlation=data_numeric.corr()\n",
    "\n",
    "#f,ax=plt.subplot(figsize=(7,7))\n",
    "#plt.title('correlation of numeric features with price',y=1,size=16)\n",
    "#sns.heatmap(correlation,square=True,vmax=0.8)"
   ]
  },
  {
   "cell_type": "code",
   "execution_count": null,
   "metadata": {},
   "outputs": [],
   "source": []
  }
 ],
 "metadata": {
  "kernelspec": {
   "display_name": "Python 2",
   "language": "python",
   "name": "python2"
  },
  "language_info": {
   "codemirror_mode": {
    "name": "ipython",
    "version": 2
   },
   "file_extension": ".py",
   "mimetype": "text/x-python",
   "name": "python",
   "nbconvert_exporter": "python",
   "pygments_lexer": "ipython2",
   "version": "2.7.6"
  }
 },
 "nbformat": 4,
 "nbformat_minor": 0
}
